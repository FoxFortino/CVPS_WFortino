{
  "nbformat": 4,
  "nbformat_minor": 0,
  "metadata": {
    "colab": {
      "provenance": [],
      "authorship_tag": "ABX9TyNQuhHs5QJjHzN4OLhBOvSA",
      "include_colab_link": true
    },
    "kernelspec": {
      "name": "python3",
      "display_name": "Python 3"
    },
    "language_info": {
      "name": "python"
    }
  },
  "cells": [
    {
      "cell_type": "markdown",
      "metadata": {
        "id": "view-in-github",
        "colab_type": "text"
      },
      "source": [
        "<a href=\"https://colab.research.google.com/github/FoxFortino/CVPS_WFortino/blob/main/classdemo/FSDfE_dbscan_26Oct23_for_students.ipynb\" target=\"_parent\"><img src=\"https://colab.research.google.com/assets/colab-badge.svg\" alt=\"Open In Colab\"/></a>"
      ]
    },
    {
      "cell_type": "code",
      "source": [
        "import numpy as np\n",
        "import pandas as pd\n",
        "from matplotlib import pyplot as plt\n",
        "import seaborn as sns\n",
        "from sklearn.preprocessing import StandardScaler\n",
        "\n",
        "plt.style.use(\"seaborn-whitegrid\")\n",
        "plt.rc(\"figure\", autolayout=True)\n",
        "plt.rc(\n",
        "    \"axes\",\n",
        "    labelweight=\"bold\",\n",
        "    labelsize=\"large\",\n",
        "    titleweight=\"bold\",\n",
        "    titlesize=14,\n",
        "    titlepad=10,\n",
        ")"
      ],
      "metadata": {
        "id": "AHU89NHM9mUL",
        "colab": {
          "base_uri": "https://localhost:8080/"
        },
        "outputId": "5621c426-52b7-4405-def7-5fd9613c23ec"
      },
      "execution_count": 1,
      "outputs": [
        {
          "output_type": "stream",
          "name": "stderr",
          "text": [
            "<ipython-input-1-2ebfe80d68ca>:7: MatplotlibDeprecationWarning: The seaborn styles shipped by Matplotlib are deprecated since 3.6, as they no longer correspond to the styles shipped by seaborn. However, they will remain available as 'seaborn-v0_8-<style>'. Alternatively, directly use the seaborn API instead.\n",
            "  plt.style.use(\"seaborn-whitegrid\")\n"
          ]
        }
      ]
    },
    {
      "cell_type": "markdown",
      "source": [
        "# Get Kaggle dataset"
      ],
      "metadata": {
        "id": "KBAWnHUl93M4"
      }
    },
    {
      "cell_type": "code",
      "execution_count": 2,
      "metadata": {
        "id": "OkoDFBcB8AAB",
        "colab": {
          "base_uri": "https://localhost:8080/"
        },
        "outputId": "6d229b94-c88f-47f9-f35c-c79565f2e6e5"
      },
      "outputs": [
        {
          "output_type": "stream",
          "name": "stdout",
          "text": [
            "Mounted at /content/drive\n"
          ]
        }
      ],
      "source": [
        "from google.colab import drive\n",
        "drive.mount('/content/drive')\n",
        "\n",
        "!chmod 600 /content/drive/MyDrive/Kaggle/kaggle.json\n",
        "\n",
        "import json\n",
        "envs = json.load(open(\"/content/drive/MyDrive/Kaggle/kaggle.json\", \"r\"))\n",
        "\n",
        "import os\n",
        "os.environ[\"KAGGLE_USERNAME\"] = envs['username']\n",
        "os.environ[\"KAGGLE_KEY\"] = envs['key']"
      ]
    },
    {
      "cell_type": "code",
      "source": [
        "!kaggle datasets list -s chocolate"
      ],
      "metadata": {
        "id": "Tzn4-RRS8EVB"
      },
      "execution_count": null,
      "outputs": []
    },
    {
      "cell_type": "code",
      "source": [
        "!kaggle datasets download -d andrewmvd/chocolate-ratings -p REPLACEME"
      ],
      "metadata": {
        "id": "0NyJLaEo8YpA"
      },
      "execution_count": null,
      "outputs": []
    },
    {
      "cell_type": "code",
      "source": [
        "!unzip -o REPLACEME -d REPLACEME"
      ],
      "metadata": {
        "id": "AUVv0MgE8n2A"
      },
      "execution_count": null,
      "outputs": []
    },
    {
      "cell_type": "markdown",
      "source": [
        "# Read dataset"
      ],
      "metadata": {
        "id": "f0HgFan395_V"
      }
    },
    {
      "cell_type": "code",
      "source": [
        "df_makers = pd.read_csv(\"REPLACEME\")\n",
        "df_ratings = pd.read_csv(\"REPLACEME\")"
      ],
      "metadata": {
        "id": "f_ys1MzA806v"
      },
      "execution_count": null,
      "outputs": []
    },
    {
      "cell_type": "code",
      "source": [
        "df_makers"
      ],
      "metadata": {
        "id": "mNPXL9kr9sBR"
      },
      "execution_count": null,
      "outputs": []
    },
    {
      "cell_type": "code",
      "source": [
        "df_ratings"
      ],
      "metadata": {
        "id": "PgYgJJ2e9shn"
      },
      "execution_count": null,
      "outputs": []
    },
    {
      "cell_type": "markdown",
      "source": [
        "# Today we care about the \"Cocoa Percent\" and \"Rating\" columns"
      ],
      "metadata": {
        "id": "lowicGP1APa6"
      }
    },
    {
      "cell_type": "code",
      "source": [
        "X = df_ratings.loc[:, [\"REPLACEME\", \"REPLACEME\"]]\n",
        "X"
      ],
      "metadata": {
        "id": "3jNOIOE8Aahu"
      },
      "execution_count": null,
      "outputs": []
    },
    {
      "cell_type": "markdown",
      "source": [
        "# Convert \"Cocoa Percent\" column from strings to fractions"
      ],
      "metadata": {
        "id": "ngb9PRKlAsQd"
      }
    },
    {
      "cell_type": "code",
      "source": [
        "np.unique(X[\"REPLACEME\"])"
      ],
      "metadata": {
        "id": "vpG8ap5YB4E0"
      },
      "execution_count": null,
      "outputs": []
    },
    {
      "cell_type": "code",
      "source": [
        "X[\"REPLACEME\"].unique()"
      ],
      "metadata": {
        "id": "uvMAZqBf-BEp"
      },
      "execution_count": null,
      "outputs": []
    },
    {
      "cell_type": "code",
      "source": [
        "def convert_cocoa_percent_to_float(column):\n",
        "    pass"
      ],
      "metadata": {
        "id": "m7STUXtv9ua_"
      },
      "execution_count": null,
      "outputs": []
    },
    {
      "cell_type": "code",
      "source": [
        "X[\"REPLACEME\"].apply(convert_cocoa_percent_to_float)"
      ],
      "metadata": {
        "id": "LNvDFuhFBEOH"
      },
      "execution_count": null,
      "outputs": []
    },
    {
      "cell_type": "code",
      "source": [
        "np.unique(X[\"REPLACEME\"].apply(convert_cocoa_percent_to_float))"
      ],
      "metadata": {
        "id": "Bvf0ld50Bx8N"
      },
      "execution_count": null,
      "outputs": []
    },
    {
      "cell_type": "markdown",
      "source": [
        "# Create new column in dataframe and drop the old one"
      ],
      "metadata": {
        "id": "OUxPRfHsCagK"
      }
    },
    {
      "cell_type": "code",
      "source": [
        "X[\"cocoa_fraction\"] = X[\"REPLACEME\"].apply(convert_cocoa_percent_to_float)\n",
        "X"
      ],
      "metadata": {
        "id": "3AdI5zl-By12"
      },
      "execution_count": null,
      "outputs": []
    },
    {
      "cell_type": "code",
      "source": [
        "X.drop(columns=[\"REPLACEME\"], REPLACEME=True)\n",
        "X"
      ],
      "metadata": {
        "id": "KKZLi-jHCWcW"
      },
      "execution_count": null,
      "outputs": []
    },
    {
      "cell_type": "markdown",
      "source": [
        "# Visualize data (what are the axis labels, units?)"
      ],
      "metadata": {
        "id": "spPTae8KCrvk"
      }
    },
    {
      "cell_type": "code",
      "source": [
        "X.hist(figsize=(10, 5))\n",
        "\n",
        "fig, ax = plt.subplots(figsize=(10, 5))\n",
        "ax.scatter(X[\"REPLACEME\"], X[\"REPLACEME\"])\n",
        "ax.set_xlabel(\"Cocoa Fraction\")\n",
        "ax.set_ylabel(\"Rating\")\n",
        "ax.grid()\n",
        "fig.show()"
      ],
      "metadata": {
        "id": "C44eeThbCjLF"
      },
      "execution_count": null,
      "outputs": []
    },
    {
      "cell_type": "markdown",
      "source": [
        "# Scale the data and visualize again\n",
        "\n",
        "We scale the data with the exact same code from the KMeans lab from 24 October 2023."
      ],
      "metadata": {
        "id": "Kd_b-juUDlkT"
      }
    },
    {
      "cell_type": "code",
      "source": [
        "scaler = StandardScaler()\n",
        "scaler.fit(X)\n",
        "X[X.columns] = scaler.transform(X)\n",
        "X.describe()"
      ],
      "metadata": {
        "id": "7zEOZ3BuDLTm"
      },
      "execution_count": null,
      "outputs": []
    },
    {
      "cell_type": "code",
      "source": [
        "X.hist(figsize=(10, 5))\n",
        "\n",
        "fig, ax = plt.subplots(figsize=(10, 5))\n",
        "ax.scatter(X[\"REPLACEME\"], X[\"REPLACEME\"])\n",
        "ax.set_xlabel(\"Cocoa Fraction [scaled]\")\n",
        "ax.set_ylabel(\"Rating [scaled]\")\n",
        "ax.grid()\n",
        "fig.show()"
      ],
      "metadata": {
        "id": "HlY9kbhmDuB4"
      },
      "execution_count": null,
      "outputs": []
    },
    {
      "cell_type": "markdown",
      "source": [
        "# DBSCAN"
      ],
      "metadata": {
        "id": "WgPzz8iVD8Wo"
      }
    },
    {
      "cell_type": "code",
      "source": [
        "from sklearn.cluster import DBSCAN"
      ],
      "metadata": {
        "id": "bt4o1jYcDvSu"
      },
      "execution_count": null,
      "outputs": []
    },
    {
      "cell_type": "code",
      "source": [
        "dbscan = DBSCAN(eps=REPLACEME, min_samples=REPLACEME)\n",
        "dbscan.fit(REPLACEME)"
      ],
      "metadata": {
        "id": "IJi98P8EEBBO"
      },
      "execution_count": null,
      "outputs": []
    },
    {
      "cell_type": "code",
      "source": [
        "dbscan.labels_, dbscan.labels_.shape"
      ],
      "metadata": {
        "id": "4FM4veHgF3MX"
      },
      "execution_count": null,
      "outputs": []
    },
    {
      "cell_type": "code",
      "source": [
        "np.unique(dbscan.labels_, return_counts=True)"
      ],
      "metadata": {
        "id": "aCN1u4qBF77s"
      },
      "execution_count": null,
      "outputs": []
    },
    {
      "cell_type": "code",
      "source": [
        "X[\"labels\"] = dbscan.labels_"
      ],
      "metadata": {
        "id": "BYYwbJjGF_v1"
      },
      "execution_count": null,
      "outputs": []
    },
    {
      "cell_type": "code",
      "source": [
        "ax = sns.relplot(\n",
        "    x=\"REPLACEME\", y=\"REPLACEME\",\n",
        "    hue=\"REPLACEME\", data=REPLACEME,\n",
        "    height=6,\n",
        "    palette=\"Dark2\",\n",
        "    legend=\"full\",\n",
        ")\n",
        "leg = ax._legend\n",
        "leg.set_bbox_to_anchor([1.1, 0.5])"
      ],
      "metadata": {
        "id": "G2yIvAlpGJ6d"
      },
      "execution_count": null,
      "outputs": []
    },
    {
      "cell_type": "markdown",
      "source": [
        "# Adding more features to the dataset"
      ],
      "metadata": {
        "id": "EJBw-9o5MBmE"
      }
    },
    {
      "cell_type": "code",
      "source": [
        "X = df_ratings.loc[:, [\"Cocoa Percent\", \"Rating\", \"REPLACEME\"]]\n",
        "X[\"cocoa_fraction\"] = X[\"Cocoa Percent\"].apply(convert_cocoa_percent_to_float)\n",
        "X.drop(columns=[\"Cocoa Percent\"], inplace=True)\n",
        "\n",
        "scaler = StandardScaler()\n",
        "scaler.fit(X)\n",
        "X[X.columns] = scaler.transform(X)\n",
        "X.describe()"
      ],
      "metadata": {
        "id": "DJfTRDBnGQW1"
      },
      "execution_count": null,
      "outputs": []
    },
    {
      "cell_type": "code",
      "source": [
        "dbscan = DBSCAN(eps=REPLACEME, min_samples=REPLACEME).fit(X)\n",
        "X[\"labels\"] = dbscan.labels_\n",
        "\n",
        "ax = sns.relplot(\n",
        "    x=\"REPLACEME\", y=\"REPLACEME\",\n",
        "    hue=\"REPLACEME\", data=REPLACEME,\n",
        "    height=6,\n",
        "    palette=\"Dark2\",\n",
        "    legend=\"full\",\n",
        ")\n",
        "leg = ax._legend\n",
        "leg.set_bbox_to_anchor([1.1, 0.5])"
      ],
      "metadata": {
        "id": "4bo7pGmjMgje"
      },
      "execution_count": null,
      "outputs": []
    },
    {
      "cell_type": "code",
      "source": [
        "import plotly.express as px\n",
        "\n",
        "fig = px.scatter_3d(X, x='cocoa_fraction', y='Rating', z='Review Date',\n",
        "                    hover_name=\"labels\",\n",
        "                    color='labels', color_discrete_sequence=px.colors.qualitative.Safe)\n",
        "fig.update_traces(marker={'size': 3})\n",
        "fig.show()"
      ],
      "metadata": {
        "id": "BQ51qe55M03q"
      },
      "execution_count": null,
      "outputs": []
    },
    {
      "cell_type": "code",
      "source": [],
      "metadata": {
        "id": "AEkUPw1SPw5G"
      },
      "execution_count": null,
      "outputs": []
    }
  ]
}